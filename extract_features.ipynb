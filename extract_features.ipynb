{
 "cells": [
  {
   "cell_type": "code",
   "execution_count": 1,
   "metadata": {},
   "outputs": [],
   "source": [
    "from scapy.all import *\n",
    "import numpy as np"
   ]
  },
  {
   "cell_type": "markdown",
   "metadata": {},
   "source": [
    "filter by:\n",
    "- tcp packets\n",
    "- egressing packets\n",
    "- source ip"
   ]
  },
  {
   "cell_type": "code",
   "execution_count": 4,
   "metadata": {},
   "outputs": [],
   "source": [
    "pcapfile = 'dataset/raw/attack_capture.pcap'"
   ]
  },
  {
   "cell_type": "code",
   "execution_count": 5,
   "metadata": {},
   "outputs": [],
   "source": [
    "# store packets by src ip\n",
    "packets = dict()"
   ]
  },
  {
   "cell_type": "code",
   "execution_count": 6,
   "metadata": {},
   "outputs": [],
   "source": [
    "def store_pkt(pkt):\n",
    "    global packets\n",
    "    ip = pkt[IP].src\n",
    "    if ip not in packets.keys():\n",
    "        packets[ip] = []\n",
    "    packets[ip].append(pkt)"
   ]
  },
  {
   "cell_type": "code",
   "execution_count": 7,
   "metadata": {},
   "outputs": [],
   "source": [
    "# filter packets egressing from network\n",
    "network = '10.0.0.64/26'"
   ]
  },
  {
   "cell_type": "code",
   "execution_count": 9,
   "metadata": {},
   "outputs": [
    {
     "data": {
      "text/plain": [
       "<Sniffed: TCP:0 UDP:0 ICMP:0 Other:0>"
      ]
     },
     "execution_count": 9,
     "metadata": {},
     "output_type": "execute_result"
    }
   ],
   "source": [
    "# filter syntax = https://biot.com/capstats/bpf.html\n",
    "sniff(\n",
    "    offline=pcapfile,\n",
    "    store=False,\n",
    "    count=1000,\n",
    "    filter=\"tcp and src net {net}\".format(net=network),\n",
    "    prn=store_pkt\n",
    ")"
   ]
  },
  {
   "cell_type": "code",
   "execution_count": 10,
   "metadata": {},
   "outputs": [
    {
     "data": {
      "text/plain": [
       "dict_keys(['10.0.0.67'])"
      ]
     },
     "execution_count": 10,
     "metadata": {},
     "output_type": "execute_result"
    }
   ],
   "source": [
    "all_hosts = packets.keys()\n",
    "all_hosts"
   ]
  },
  {
   "cell_type": "code",
   "execution_count": 11,
   "metadata": {},
   "outputs": [],
   "source": [
    "pkt = packets['10.0.0.67'][0]"
   ]
  },
  {
   "cell_type": "code",
   "execution_count": 12,
   "metadata": {},
   "outputs": [
    {
     "name": "stdout",
     "output_type": "stream",
     "text": [
      "###[ Ethernet ]### \n",
      "  dst       = c2:02:64:e8:00:00\n",
      "  src       = fe:f5:26:b1:c2:41\n",
      "  type      = IPv4\n",
      "###[ IP ]### \n",
      "     version   = 4\n",
      "     ihl       = 5\n",
      "     tos       = 0x0\n",
      "     len       = 60\n",
      "     id        = 61713\n",
      "     flags     = DF\n",
      "     frag      = 0\n",
      "     ttl       = 64\n",
      "     proto     = tcp\n",
      "     chksum    = 0x3361\n",
      "     src       = 10.0.0.67\n",
      "     dst       = 10.2.2.5\n",
      "     \\options   \\\n",
      "###[ TCP ]### \n",
      "        sport     = 52806\n",
      "        dport     = http\n",
      "        seq       = 2010281419\n",
      "        ack       = 0\n",
      "        dataofs   = 10\n",
      "        reserved  = 0\n",
      "        flags     = S\n",
      "        window    = 64240\n",
      "        chksum    = 0x2d6c\n",
      "        urgptr    = 0\n",
      "        options   = [('MSS', 1460), ('SAckOK', b''), ('Timestamp', (3820972389, 0)), ('NOP', None), ('WScale', 7)]\n",
      "\n"
     ]
    }
   ],
   "source": [
    "pkt.show()"
   ]
  },
  {
   "cell_type": "code",
   "execution_count": 13,
   "metadata": {
    "scrolled": true
   },
   "outputs": [
    {
     "data": {
      "text/plain": [
       "1624315639.847212"
      ]
     },
     "execution_count": 13,
     "metadata": {},
     "output_type": "execute_result"
    }
   ],
   "source": [
    "float(pkt.time)"
   ]
  },
  {
   "cell_type": "markdown",
   "metadata": {},
   "source": [
    "sort packets by timestamp"
   ]
  },
  {
   "cell_type": "code",
   "execution_count": 14,
   "metadata": {},
   "outputs": [],
   "source": [
    "for host in packets.keys():\n",
    "    packets[host] = sorted(packets[host], key=lambda pkt: pkt.time)"
   ]
  },
  {
   "cell_type": "markdown",
   "metadata": {},
   "source": [
    "extract data from packets"
   ]
  },
  {
   "cell_type": "code",
   "execution_count": null,
   "metadata": {},
   "outputs": [],
   "source": []
  },
  {
   "cell_type": "markdown",
   "metadata": {},
   "source": [
    "for each source ip (host):\n",
    "- get observation windows (sequential or sliding?)"
   ]
  },
  {
   "cell_type": "code",
   "execution_count": 15,
   "metadata": {},
   "outputs": [],
   "source": [
    "T = 15 # observation window in seconds (10-30)"
   ]
  },
  {
   "cell_type": "code",
   "execution_count": 16,
   "metadata": {},
   "outputs": [
    {
     "name": "stdout",
     "output_type": "stream",
     "text": [
      "1624315639.847212\n"
     ]
    },
    {
     "data": {
      "text/plain": [
       "1624315639"
      ]
     },
     "execution_count": 16,
     "metadata": {},
     "output_type": "execute_result"
    }
   ],
   "source": [
    "print(packets['10.0.0.67'][0].time)\n",
    "start_time = np.floor(packets['10.0.0.67'][0].time)\n",
    "start_time"
   ]
  },
  {
   "cell_type": "code",
   "execution_count": 17,
   "metadata": {},
   "outputs": [
    {
     "name": "stdout",
     "output_type": "stream",
     "text": [
      "1624315690.763148\n"
     ]
    },
    {
     "data": {
      "text/plain": [
       "1624315691"
      ]
     },
     "execution_count": 17,
     "metadata": {},
     "output_type": "execute_result"
    }
   ],
   "source": [
    "print(packets['10.0.0.67'][-1].time)\n",
    "end_time = np.ceil(packets['10.0.0.67'][-1].time)\n",
    "end_time"
   ]
  },
  {
   "cell_type": "code",
   "execution_count": 18,
   "metadata": {},
   "outputs": [
    {
     "data": {
      "text/plain": [
       "array([1624315639, 1624315640, 1624315641, 1624315642, 1624315643,\n",
       "       1624315644, 1624315645, 1624315646, 1624315647, 1624315648,\n",
       "       1624315649, 1624315650, 1624315651, 1624315652, 1624315653,\n",
       "       1624315654, 1624315655, 1624315656, 1624315657, 1624315658,\n",
       "       1624315659, 1624315660, 1624315661, 1624315662, 1624315663,\n",
       "       1624315664, 1624315665, 1624315666, 1624315667, 1624315668,\n",
       "       1624315669, 1624315670, 1624315671, 1624315672, 1624315673,\n",
       "       1624315674, 1624315675, 1624315676, 1624315677, 1624315678,\n",
       "       1624315679, 1624315680, 1624315681, 1624315682, 1624315683,\n",
       "       1624315684, 1624315685, 1624315686, 1624315687, 1624315688,\n",
       "       1624315689, 1624315690])"
      ]
     },
     "execution_count": 18,
     "metadata": {},
     "output_type": "execute_result"
    }
   ],
   "source": [
    "np.arange(start_time, end_time, 1)"
   ]
  },
  {
   "cell_type": "code",
   "execution_count": 19,
   "metadata": {},
   "outputs": [],
   "source": [
    "# arrange packets in 1 seconds intervals\n",
    "def samples(packets, sample_interval=1):\n",
    "    start_time = np.floor(packets[0].time)\n",
    "    end_time = np.ceil(packets[-1].time)\n",
    "    \n",
    "    packet_samples = []\n",
    "    \n",
    "    num_packets = len(packets)\n",
    "    packet_idx = 0\n",
    "    for interval_start in np.arange(start_time, end_time, sample_interval):\n",
    "        sample = []\n",
    "        while packet_idx < num_packets and packets[packet_idx].time < int(interval_start + sample_interval):\n",
    "            sample.append(packets[packet_idx])\n",
    "            packet_idx +=1\n",
    "        packet_samples.append(sample)\n",
    "            \n",
    "    return packet_samples"
   ]
  },
  {
   "cell_type": "code",
   "execution_count": 20,
   "metadata": {},
   "outputs": [],
   "source": [
    "tmp = samples(packets['10.0.0.67'], sample_interval=1)"
   ]
  },
  {
   "cell_type": "code",
   "execution_count": 21,
   "metadata": {},
   "outputs": [
    {
     "name": "stdout",
     "output_type": "stream",
     "text": [
      "14\n",
      "76\n",
      "14\n",
      "0\n",
      "0\n",
      "0\n",
      "0\n",
      "64\n",
      "57\n",
      "39\n",
      "40\n",
      "38\n",
      "40\n",
      "39\n",
      "39\n",
      "40\n",
      "33\n",
      "0\n",
      "0\n",
      "0\n",
      "0\n",
      "13\n",
      "13\n",
      "0\n",
      "0\n",
      "0\n",
      "0\n",
      "2\n",
      "20\n",
      "19\n",
      "20\n",
      "203\n",
      "32\n",
      "29\n",
      "59\n",
      "54\n",
      "37\n",
      "6\n",
      "0\n",
      "0\n",
      "0\n",
      "0\n",
      "0\n",
      "0\n",
      "0\n",
      "0\n",
      "0\n",
      "0\n",
      "0\n",
      "0\n",
      "31\n",
      "29\n"
     ]
    }
   ],
   "source": [
    "for k in tmp:\n",
    "    print(len(k))"
   ]
  },
  {
   "cell_type": "code",
   "execution_count": null,
   "metadata": {},
   "outputs": [],
   "source": [
    "np.arange(0, 9, 4)"
   ]
  },
  {
   "cell_type": "code",
   "execution_count": null,
   "metadata": {},
   "outputs": [],
   "source": [
    "len(tmp[0:0+4])"
   ]
  },
  {
   "cell_type": "code",
   "execution_count": 22,
   "metadata": {},
   "outputs": [],
   "source": [
    "def seqObsWindow(data, lengthObsWindow):\n",
    "    nSamples = len(data)\n",
    "    obsWindows = []\n",
    "    for s in np.arange(0,nSamples,lengthObsWindow):\n",
    "        subdata=data[s:s+lengthObsWindow]\n",
    "        if len(subdata) == lengthObsWindow:\n",
    "            obsWindows.append(subdata)\n",
    "    return obsWindows"
   ]
  },
  {
   "cell_type": "code",
   "execution_count": null,
   "metadata": {},
   "outputs": [],
   "source": [
    "j = seqObsWindow(tmp, 4)\n",
    "print(len(tmp))\n",
    "print(len(j[0]))\n",
    "print(len(j))"
   ]
  },
  {
   "cell_type": "code",
   "execution_count": null,
   "metadata": {},
   "outputs": [],
   "source": [
    "print(len(j[1][0]))"
   ]
  },
  {
   "cell_type": "code",
   "execution_count": 23,
   "metadata": {},
   "outputs": [],
   "source": [
    "def slidingObsWindow(data, lengthObsWindow, slidingValue):\n",
    "    nSamples = len(data)\n",
    "    obsWindows = []\n",
    "    for s in np.arange(0,nSamples,slidingValue):\n",
    "        subdata=data[s:s+lengthObsWindow]\n",
    "        if len(subdata) == lengthObsWindow:\n",
    "            obsWindows.append(subdata)\n",
    "    return obsWindows"
   ]
  },
  {
   "cell_type": "code",
   "execution_count": null,
   "metadata": {},
   "outputs": [],
   "source": [
    "k = slidingObsWindow(tmp, 3, 2)\n",
    "print(len(tmp))\n",
    "print(len(k[2]))\n",
    "print(len(k))"
   ]
  },
  {
   "cell_type": "code",
   "execution_count": null,
   "metadata": {},
   "outputs": [],
   "source": [
    "print(len(k[3][2]))"
   ]
  },
  {
   "cell_type": "code",
   "execution_count": 25,
   "metadata": {},
   "outputs": [
    {
     "data": {
      "text/plain": [
       "8"
      ]
     },
     "execution_count": 25,
     "metadata": {},
     "output_type": "execute_result"
    }
   ],
   "source": [
    "res = slidingObsWindow(tmp, T, 5)\n",
    "len(res)"
   ]
  },
  {
   "cell_type": "markdown",
   "metadata": {},
   "source": [
    "for each observation window:\n",
    "- Number of TCP packets\n",
    "- Number of TCP packet *segments*\n",
    "- Mean TCP packet length\n",
    "- Variance TCP packet length\n",
    "- shannon entropy of TCP destination IP\n",
    "- shannon entropy of TCP destination port\n",
    "- total silence time\n",
    "- average silence time sequence\n",
    "- variance silence time sequence"
   ]
  },
  {
   "cell_type": "code",
   "execution_count": 27,
   "metadata": {},
   "outputs": [
    {
     "name": "stdout",
     "output_type": "stream",
     "text": [
      "14\n",
      "76\n",
      "14\n",
      "0\n",
      "0\n",
      "0\n",
      "0\n",
      "64\n",
      "57\n",
      "39\n",
      "40\n",
      "38\n",
      "40\n",
      "39\n",
      "39\n"
     ]
    }
   ],
   "source": [
    "for sample in res[0]:\n",
    "    print(len(sample))"
   ]
  },
  {
   "cell_type": "markdown",
   "metadata": {},
   "source": [
    "Normalize features"
   ]
  },
  {
   "cell_type": "code",
   "execution_count": null,
   "metadata": {},
   "outputs": [],
   "source": []
  }
 ],
 "metadata": {
  "kernelspec": {
   "display_name": "Python 3",
   "language": "python",
   "name": "python3"
  },
  "language_info": {
   "codemirror_mode": {
    "name": "ipython",
    "version": 3
   },
   "file_extension": ".py",
   "mimetype": "text/x-python",
   "name": "python",
   "nbconvert_exporter": "python",
   "pygments_lexer": "ipython3",
   "version": "3.8.5"
  }
 },
 "nbformat": 4,
 "nbformat_minor": 4
}
