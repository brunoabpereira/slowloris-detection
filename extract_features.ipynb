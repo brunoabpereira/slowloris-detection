{
 "cells": [
  {
   "cell_type": "code",
   "execution_count": 29,
   "metadata": {},
   "outputs": [],
   "source": [
    "from scapy.all import *\n",
    "import numpy as np"
   ]
  },
  {
   "cell_type": "markdown",
   "metadata": {},
   "source": [
    "filter by:\n",
    "- tcp packets\n",
    "- egressing packets\n",
    "- source ip"
   ]
  },
  {
   "cell_type": "code",
   "execution_count": 2,
   "metadata": {},
   "outputs": [],
   "source": [
    "pcapfile = 'dataset/raw/attack_capture.pcap'"
   ]
  },
  {
   "cell_type": "code",
   "execution_count": 3,
   "metadata": {},
   "outputs": [],
   "source": [
    "# store packets by src ip\n",
    "packets = dict()"
   ]
  },
  {
   "cell_type": "code",
   "execution_count": 4,
   "metadata": {},
   "outputs": [],
   "source": [
    "def store_pkt(pkt):\n",
    "    global packets\n",
    "    ip = pkt[IP].src\n",
    "    if ip not in packets.keys():\n",
    "        packets[ip] = []\n",
    "    packets[ip].append(pkt)"
   ]
  },
  {
   "cell_type": "code",
   "execution_count": 5,
   "metadata": {},
   "outputs": [],
   "source": [
    "# filter packets egressing from network\n",
    "network = '10.0.0.64/26'"
   ]
  },
  {
   "cell_type": "code",
   "execution_count": 6,
   "metadata": {},
   "outputs": [
    {
     "data": {
      "text/plain": [
       "<Sniffed: TCP:0 UDP:0 ICMP:0 Other:0>"
      ]
     },
     "execution_count": 6,
     "metadata": {},
     "output_type": "execute_result"
    }
   ],
   "source": [
    "# filter syntax = https://biot.com/capstats/bpf.html\n",
    "sniff(\n",
    "    offline=pcapfile,\n",
    "    store=False,\n",
    "    count=100,\n",
    "    filter=\"tcp and src net {net}\".format(net=network),\n",
    "    prn=store_pkt\n",
    ")"
   ]
  },
  {
   "cell_type": "code",
   "execution_count": 7,
   "metadata": {},
   "outputs": [
    {
     "data": {
      "text/plain": [
       "dict_keys(['10.0.0.67'])"
      ]
     },
     "execution_count": 7,
     "metadata": {},
     "output_type": "execute_result"
    }
   ],
   "source": [
    "all_hosts = packets.keys()\n",
    "all_hosts"
   ]
  },
  {
   "cell_type": "code",
   "execution_count": 8,
   "metadata": {},
   "outputs": [],
   "source": [
    "pkt = packets['10.0.0.67'][0]"
   ]
  },
  {
   "cell_type": "code",
   "execution_count": 9,
   "metadata": {},
   "outputs": [
    {
     "name": "stdout",
     "output_type": "stream",
     "text": [
      "###[ Ethernet ]### \n",
      "  dst       = c2:02:64:e8:00:00\n",
      "  src       = fe:f5:26:b1:c2:41\n",
      "  type      = IPv4\n",
      "###[ IP ]### \n",
      "     version   = 4\n",
      "     ihl       = 5\n",
      "     tos       = 0x0\n",
      "     len       = 60\n",
      "     id        = 61713\n",
      "     flags     = DF\n",
      "     frag      = 0\n",
      "     ttl       = 64\n",
      "     proto     = tcp\n",
      "     chksum    = 0x3361\n",
      "     src       = 10.0.0.67\n",
      "     dst       = 10.2.2.5\n",
      "     \\options   \\\n",
      "###[ TCP ]### \n",
      "        sport     = 52806\n",
      "        dport     = http\n",
      "        seq       = 2010281419\n",
      "        ack       = 0\n",
      "        dataofs   = 10\n",
      "        reserved  = 0\n",
      "        flags     = S\n",
      "        window    = 64240\n",
      "        chksum    = 0x2d6c\n",
      "        urgptr    = 0\n",
      "        options   = [('MSS', 1460), ('SAckOK', b''), ('Timestamp', (3820972389, 0)), ('NOP', None), ('WScale', 7)]\n",
      "\n"
     ]
    }
   ],
   "source": [
    "pkt.show()"
   ]
  },
  {
   "cell_type": "code",
   "execution_count": 10,
   "metadata": {
    "scrolled": true
   },
   "outputs": [
    {
     "data": {
      "text/plain": [
       "1624315639.847212"
      ]
     },
     "execution_count": 10,
     "metadata": {},
     "output_type": "execute_result"
    }
   ],
   "source": [
    "float(pkt.time)"
   ]
  },
  {
   "cell_type": "markdown",
   "metadata": {},
   "source": [
    "sort packets by timestamp"
   ]
  },
  {
   "cell_type": "code",
   "execution_count": 33,
   "metadata": {},
   "outputs": [],
   "source": [
    "for host in packets.keys():\n",
    "    packets[host] = sorted(packets[host], key=lambda pkt: pkt.time)"
   ]
  },
  {
   "cell_type": "markdown",
   "metadata": {},
   "source": [
    "extract data from packets"
   ]
  },
  {
   "cell_type": "code",
   "execution_count": null,
   "metadata": {},
   "outputs": [],
   "source": []
  },
  {
   "cell_type": "markdown",
   "metadata": {},
   "source": [
    "for each source ip (host):\n",
    "- get observation windows (sequential or sliding?)"
   ]
  },
  {
   "cell_type": "code",
   "execution_count": 11,
   "metadata": {},
   "outputs": [],
   "source": [
    "T = 15 # observation window in seconds"
   ]
  },
  {
   "cell_type": "code",
   "execution_count": 44,
   "metadata": {},
   "outputs": [
    {
     "data": {
      "text/plain": [
       "Decimal('1624315639.847212')"
      ]
     },
     "execution_count": 44,
     "metadata": {},
     "output_type": "execute_result"
    }
   ],
   "source": [
    "packets['10.0.0.67'][0].time"
   ]
  },
  {
   "cell_type": "code",
   "execution_count": 43,
   "metadata": {},
   "outputs": [
    {
     "data": {
      "text/plain": [
       "1624315639"
      ]
     },
     "execution_count": 43,
     "metadata": {},
     "output_type": "execute_result"
    }
   ],
   "source": [
    "start_time = np.floor(packets['10.0.0.67'][0].time)\n",
    "start_time"
   ]
  },
  {
   "cell_type": "code",
   "execution_count": 45,
   "metadata": {},
   "outputs": [
    {
     "data": {
      "text/plain": [
       "Decimal('1624315647.331844')"
      ]
     },
     "execution_count": 45,
     "metadata": {},
     "output_type": "execute_result"
    }
   ],
   "source": [
    "packets['10.0.0.67'][-1].time"
   ]
  },
  {
   "cell_type": "code",
   "execution_count": 46,
   "metadata": {},
   "outputs": [
    {
     "data": {
      "text/plain": [
       "1624315648"
      ]
     },
     "execution_count": 46,
     "metadata": {},
     "output_type": "execute_result"
    }
   ],
   "source": [
    "end_time = np.ceil(packets['10.0.0.67'][-1].time)\n",
    "end_time"
   ]
  },
  {
   "cell_type": "code",
   "execution_count": 49,
   "metadata": {},
   "outputs": [
    {
     "data": {
      "text/plain": [
       "array([1624315639, 1624315640, 1624315641, 1624315642, 1624315643,\n",
       "       1624315644, 1624315645, 1624315646, 1624315647])"
      ]
     },
     "execution_count": 49,
     "metadata": {},
     "output_type": "execute_result"
    }
   ],
   "source": [
    "np.arange(start_time, end_time, 1)"
   ]
  },
  {
   "cell_type": "code",
   "execution_count": 61,
   "metadata": {},
   "outputs": [
    {
     "data": {
      "text/plain": [
       "True"
      ]
     },
     "execution_count": 61,
     "metadata": {},
     "output_type": "execute_result"
    }
   ],
   "source": [
    "packets['10.0.0.67'][0].time < (1624315639 + 1)"
   ]
  },
  {
   "cell_type": "code",
   "execution_count": 74,
   "metadata": {},
   "outputs": [
    {
     "data": {
      "text/plain": [
       "True"
      ]
     },
     "execution_count": 74,
     "metadata": {},
     "output_type": "execute_result"
    }
   ],
   "source": [
    "packets['10.0.0.67'][0].time < (1624315639 + 1)"
   ]
  },
  {
   "cell_type": "code",
   "execution_count": 88,
   "metadata": {},
   "outputs": [],
   "source": [
    "tmp = samples(packets['10.0.0.67'])"
   ]
  },
  {
   "cell_type": "code",
   "execution_count": 95,
   "metadata": {},
   "outputs": [
    {
     "name": "stdout",
     "output_type": "stream",
     "text": [
      "7\n",
      "38\n",
      "7\n",
      "0\n",
      "0\n",
      "0\n",
      "0\n",
      "32\n",
      "16\n"
     ]
    }
   ],
   "source": [
    "for k in tmp:\n",
    "    print(len(k))"
   ]
  },
  {
   "cell_type": "code",
   "execution_count": 87,
   "metadata": {},
   "outputs": [],
   "source": [
    "# arrange packets in 1 seconds intervals\n",
    "def samples(packets, sample_interval=1):\n",
    "    start_time = np.floor(packets[0].time)\n",
    "    end_time = np.ceil(packets[-1].time)\n",
    "    \n",
    "    packet_samples = []\n",
    "    \n",
    "    num_packets = len(packets)\n",
    "    packet_idx = 0\n",
    "    for interval_start in np.arange(start_time, end_time, sample_interval):\n",
    "        sample = []\n",
    "        while packet_idx < num_packets and packets[packet_idx].time < int(interval_start + sample_interval):\n",
    "            sample.append(packets[packet_idx])\n",
    "            packet_idx +=1\n",
    "        packet_samples.append(sample)\n",
    "            \n",
    "    return packet_samples"
   ]
  },
  {
   "cell_type": "code",
   "execution_count": null,
   "metadata": {},
   "outputs": [],
   "source": [
    "def seqObsWindow(data,lengthObsWindow):\n",
    "    nSamples,nMetrics=data.shape\n",
    "    print(\"Observation window size: {}\".format(lengthObsWindow))\n",
    "    for s in np.arange(lengthObsWindow,nSamples,lengthObsWindow):\n",
    "        print(\"\\nAt sample: {}\\n\".format(s-1))\n",
    "        subdata=data[s-lengthObsWindow:s,:]\n",
    "        print(subdata)"
   ]
  },
  {
   "cell_type": "code",
   "execution_count": null,
   "metadata": {},
   "outputs": [],
   "source": [
    "def slidingObsWindow(data,lengthObsWindow,slidingValue):\n",
    "    nSamples,nMetrics=data.shape\n",
    "    print(\"Observation window size: {}\\nSliding value: {}\".format(lengthObsWindow,slidingValue))\n",
    "    for s in np.arange(lengthObsWindow,nSamples,slidingValue):\n",
    "        print(\"\\nAt sample: {}\\n\".format(s-1))\n",
    "        subdata=data[s-lengthObsWindow:s,:]\n",
    "        print(subdata)"
   ]
  },
  {
   "cell_type": "markdown",
   "metadata": {},
   "source": [
    "for each observation window:\n",
    "- Number of TCP packets\n",
    "- Number of TCP packet *segments*\n",
    "- Mean TCP packet length\n",
    "- Variance TCP packet length\n",
    "- shannon entropy of TCP destination IP\n",
    "- shannon entropy of TCP destination port"
   ]
  },
  {
   "cell_type": "code",
   "execution_count": null,
   "metadata": {},
   "outputs": [],
   "source": []
  }
 ],
 "metadata": {
  "kernelspec": {
   "display_name": "Python 3",
   "language": "python",
   "name": "python3"
  },
  "language_info": {
   "codemirror_mode": {
    "name": "ipython",
    "version": 3
   },
   "file_extension": ".py",
   "mimetype": "text/x-python",
   "name": "python",
   "nbconvert_exporter": "python",
   "pygments_lexer": "ipython3",
   "version": "3.8.5"
  }
 },
 "nbformat": 4,
 "nbformat_minor": 4
}
