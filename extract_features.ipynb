{
 "cells": [
  {
   "cell_type": "code",
   "execution_count": null,
   "metadata": {},
   "outputs": [],
   "source": [
    "from scapy.all import *\n",
    "import numpy as np\n",
    "import pandas as pd"
   ]
  },
  {
   "cell_type": "markdown",
   "metadata": {},
   "source": [
    "filter by:\n",
    "- tcp packets\n",
    "- egressing packets\n",
    "- source ip"
   ]
  },
  {
   "cell_type": "code",
   "execution_count": null,
   "metadata": {},
   "outputs": [],
   "source": [
    "pcapfile = 'dataset/raw/attack_capture.pcap'"
   ]
  },
  {
   "cell_type": "code",
   "execution_count": null,
   "metadata": {},
   "outputs": [],
   "source": [
    "# store packets by src ip\n",
    "packets = dict()"
   ]
  },
  {
   "cell_type": "code",
   "execution_count": null,
   "metadata": {},
   "outputs": [],
   "source": [
    "def store_pkt(pkt):\n",
    "    global packets\n",
    "    ip = pkt[IP].src\n",
    "    if ip not in packets.keys():\n",
    "        packets[ip] = []\n",
    "    packets[ip].append(pkt)"
   ]
  },
  {
   "cell_type": "code",
   "execution_count": null,
   "metadata": {},
   "outputs": [],
   "source": [
    "# filter packets egressing from network\n",
    "network = '10.0.0.64/26'"
   ]
  },
  {
   "cell_type": "code",
   "execution_count": null,
   "metadata": {},
   "outputs": [],
   "source": [
    "# filter syntax = https://biot.com/capstats/bpf.html\n",
    "sniff(\n",
    "    offline=pcapfile,\n",
    "    store=False,\n",
    "    #count=1000,\n",
    "    filter=\"tcp and src net {net}\".format(net=network),\n",
    "    prn=store_pkt\n",
    ")"
   ]
  },
  {
   "cell_type": "code",
   "execution_count": null,
   "metadata": {},
   "outputs": [],
   "source": [
    "all_hosts = packets.keys()\n",
    "all_hosts"
   ]
  },
  {
   "cell_type": "code",
   "execution_count": null,
   "metadata": {},
   "outputs": [],
   "source": [
    "pkt = packets['10.0.0.67'][0]"
   ]
  },
  {
   "cell_type": "code",
   "execution_count": null,
   "metadata": {},
   "outputs": [],
   "source": [
    "pkt.show()"
   ]
  },
  {
   "cell_type": "code",
   "execution_count": null,
   "metadata": {
    "scrolled": true
   },
   "outputs": [],
   "source": [
    "float(pkt.time)"
   ]
  },
  {
   "cell_type": "markdown",
   "metadata": {},
   "source": [
    "sort packets by timestamp"
   ]
  },
  {
   "cell_type": "code",
   "execution_count": null,
   "metadata": {},
   "outputs": [],
   "source": [
    "for host in packets.keys():\n",
    "    packets[host] = sorted(packets[host], key=lambda pkt: pkt.time)"
   ]
  },
  {
   "cell_type": "markdown",
   "metadata": {},
   "source": [
    "for each source ip (host):\n",
    "- get observation windows (sequential or sliding?)"
   ]
  },
  {
   "cell_type": "code",
   "execution_count": null,
   "metadata": {},
   "outputs": [],
   "source": [
    "T = 15 # observation window in seconds (10-30)"
   ]
  },
  {
   "cell_type": "code",
   "execution_count": null,
   "metadata": {},
   "outputs": [],
   "source": [
    "print(packets['10.0.0.67'][0].time)\n",
    "start_time = np.floor(packets['10.0.0.67'][0].time)\n",
    "start_time"
   ]
  },
  {
   "cell_type": "code",
   "execution_count": null,
   "metadata": {},
   "outputs": [],
   "source": [
    "print(packets['10.0.0.67'][-1].time)\n",
    "end_time = np.ceil(packets['10.0.0.67'][-1].time)\n",
    "end_time"
   ]
  },
  {
   "cell_type": "code",
   "execution_count": null,
   "metadata": {},
   "outputs": [],
   "source": [
    "np.arange(start_time, end_time, 1)"
   ]
  },
  {
   "cell_type": "code",
   "execution_count": null,
   "metadata": {},
   "outputs": [],
   "source": [
    "# arrange packets in 1 seconds intervals\n",
    "def samples(packets, sample_interval=1):\n",
    "    start_time = np.floor(packets[0].time)\n",
    "    end_time = np.ceil(packets[-1].time)\n",
    "    \n",
    "    packet_samples = []\n",
    "    \n",
    "    num_packets = len(packets)\n",
    "    packet_idx = 0\n",
    "    for interval_start in np.arange(start_time, end_time, sample_interval):\n",
    "        sample = []\n",
    "        while packet_idx < num_packets and packets[packet_idx].time < int(interval_start + sample_interval):\n",
    "            sample.append(packets[packet_idx])\n",
    "            packet_idx +=1\n",
    "        packet_samples.append(sample)\n",
    "            \n",
    "    return packet_samples"
   ]
  },
  {
   "cell_type": "code",
   "execution_count": null,
   "metadata": {},
   "outputs": [],
   "source": [
    "tmp = samples(packets['10.0.0.67'], sample_interval=1)"
   ]
  },
  {
   "cell_type": "code",
   "execution_count": null,
   "metadata": {},
   "outputs": [],
   "source": [
    "for k in tmp:\n",
    "    print(len(k))"
   ]
  },
  {
   "cell_type": "code",
   "execution_count": null,
   "metadata": {},
   "outputs": [],
   "source": [
    "np.arange(0, 9, 4)"
   ]
  },
  {
   "cell_type": "code",
   "execution_count": null,
   "metadata": {},
   "outputs": [],
   "source": [
    "len(tmp[0:0+4])"
   ]
  },
  {
   "cell_type": "code",
   "execution_count": null,
   "metadata": {},
   "outputs": [],
   "source": [
    "def seqObsWindow(data, lengthObsWindow):\n",
    "    nSamples = len(data)\n",
    "    obsWindows = []\n",
    "    for s in np.arange(0,nSamples,lengthObsWindow):\n",
    "        subdata=data[s:s+lengthObsWindow]\n",
    "        if len(subdata) == lengthObsWindow:\n",
    "            obsWindows.append(subdata)\n",
    "    return obsWindows"
   ]
  },
  {
   "cell_type": "code",
   "execution_count": null,
   "metadata": {},
   "outputs": [],
   "source": [
    "j = seqObsWindow(tmp, 4)\n",
    "print(len(tmp))\n",
    "print(len(j[0]))\n",
    "print(len(j))"
   ]
  },
  {
   "cell_type": "code",
   "execution_count": null,
   "metadata": {},
   "outputs": [],
   "source": [
    "print(len(j[1][0]))"
   ]
  },
  {
   "cell_type": "code",
   "execution_count": null,
   "metadata": {},
   "outputs": [],
   "source": [
    "def slidingObsWindow(data, lengthObsWindow, slidingValue):\n",
    "    nSamples = len(data)\n",
    "    obsWindows = []\n",
    "    for s in np.arange(0,nSamples,slidingValue):\n",
    "        subdata=data[s:s+lengthObsWindow]\n",
    "        if len(subdata) == lengthObsWindow:\n",
    "            obsWindows.append(subdata)\n",
    "    return obsWindows"
   ]
  },
  {
   "cell_type": "code",
   "execution_count": null,
   "metadata": {},
   "outputs": [],
   "source": [
    "k = slidingObsWindow(tmp, 3, 2)\n",
    "print(len(tmp))\n",
    "print(len(k[2]))\n",
    "print(len(k))"
   ]
  },
  {
   "cell_type": "code",
   "execution_count": null,
   "metadata": {},
   "outputs": [],
   "source": [
    "print(len(k[3][2]))"
   ]
  },
  {
   "cell_type": "code",
   "execution_count": null,
   "metadata": {},
   "outputs": [],
   "source": [
    "windows = slidingObsWindow(tmp, T, 5)\n",
    "len(windows)"
   ]
  },
  {
   "cell_type": "markdown",
   "metadata": {},
   "source": [
    "for each observation window:\n",
    "- Number of TCP packets\n",
    "- Mean TCP packet length\n",
    "- Variance TCP packet length\n",
    "- shannon entropy of TCP destination IP\n",
    "- shannon entropy of TCP destination port\n",
    "- total silence time\n",
    "- average silence time sequence\n",
    "- variance silence time sequence"
   ]
  },
  {
   "cell_type": "code",
   "execution_count": null,
   "metadata": {},
   "outputs": [],
   "source": [
    "obs_window = windows[0]\n",
    "print(len(obs_window))"
   ]
  },
  {
   "cell_type": "code",
   "execution_count": null,
   "metadata": {},
   "outputs": [],
   "source": [
    "def num_tcp_pkts(obs_window):\n",
    "    num = 0\n",
    "    for sample in obs_window:\n",
    "        num += len(sample)\n",
    "    return num"
   ]
  },
  {
   "cell_type": "code",
   "execution_count": null,
   "metadata": {},
   "outputs": [],
   "source": [
    "def packet_length(obs_window):\n",
    "    len_list = []\n",
    "    for sample in obs_window:\n",
    "        for pkt in sample:\n",
    "            len_list.append(pkt[IP].len)\n",
    "    return np.mean(len_list), np.std(len_list)"
   ]
  },
  {
   "cell_type": "code",
   "execution_count": null,
   "metadata": {},
   "outputs": [],
   "source": [
    "obs_window[0][0][TCP].dport"
   ]
  },
  {
   "cell_type": "code",
   "execution_count": null,
   "metadata": {},
   "outputs": [],
   "source": [
    "obs_window[0][0][IP].dst"
   ]
  },
  {
   "cell_type": "code",
   "execution_count": null,
   "metadata": {},
   "outputs": [],
   "source": [
    "def ip_port_hist(obs_window):\n",
    "    ip_hist = dict()\n",
    "    port_hist = dict()\n",
    "    for sample in obs_window:\n",
    "        for pkt in sample:\n",
    "            dst_ip = pkt[IP].dst\n",
    "            dst_port = pkt[TCP].dport\n",
    "            if dst_ip not in ip_hist.keys():\n",
    "                ip_hist[dst_ip] = 0\n",
    "            ip_hist[dst_ip] += 1\n",
    "            if dst_port not in port_hist.keys():\n",
    "                port_hist[dst_port] = 0\n",
    "            port_hist[dst_port] += 1\n",
    "    return ip_hist, port_hist"
   ]
  },
  {
   "cell_type": "code",
   "execution_count": null,
   "metadata": {},
   "outputs": [],
   "source": [
    "ip_hist, port_hist = ip_port_hist(obs_window)"
   ]
  },
  {
   "cell_type": "code",
   "execution_count": null,
   "metadata": {},
   "outputs": [],
   "source": [
    "port_hist"
   ]
  },
  {
   "cell_type": "code",
   "execution_count": null,
   "metadata": {},
   "outputs": [],
   "source": [
    "def norm_entropy(hist, total_occurrences):\n",
    "    num_vals = len(hist.keys())\n",
    "    h = 0\n",
    "    for val in hist.keys():\n",
    "        # calc probs\n",
    "        p_val = float(hist[val])/total_occurrences\n",
    "        # calc normalized entropy\n",
    "        norm_factor = np.log2(num_vals) if num_vals != 1 else 1\n",
    "        h += (p_val * np.log2(p_val)) / norm_factor\n",
    "    return abs(h)"
   ]
  },
  {
   "cell_type": "code",
   "execution_count": null,
   "metadata": {},
   "outputs": [],
   "source": [
    "num_tcp_packets = 480"
   ]
  },
  {
   "cell_type": "code",
   "execution_count": null,
   "metadata": {},
   "outputs": [],
   "source": [
    "# not random --> 0\n",
    "port_hist = {80: 430, 8080: 20, 55: 30}\n",
    "norm_entropy(port_hist,num_tcp_packets)"
   ]
  },
  {
   "cell_type": "code",
   "execution_count": null,
   "metadata": {},
   "outputs": [],
   "source": [
    "# random --> 1\n",
    "port_hist = {80: 160, 8080: 160, 55: 160}\n",
    "norm_entropy(port_hist,num_tcp_packets)"
   ]
  },
  {
   "cell_type": "code",
   "execution_count": null,
   "metadata": {},
   "outputs": [],
   "source": [
    "# ratio of silence time\n",
    "def silence_ratio(obs_window):\n",
    "    silence = 0\n",
    "    for sample in obs_window:\n",
    "        if len(sample) == 0:\n",
    "            silence += 1\n",
    "    return float(silence)/len(obs_window)"
   ]
  },
  {
   "cell_type": "code",
   "execution_count": null,
   "metadata": {},
   "outputs": [],
   "source": [
    "silence_ratio(obs_window)"
   ]
  },
  {
   "cell_type": "code",
   "execution_count": null,
   "metadata": {},
   "outputs": [],
   "source": [
    "def extratctSilenceActivity(data,threshold=0):\n",
    "    if(data[0]<=threshold):\n",
    "        s=[1]\n",
    "        a=[]\n",
    "    else:\n",
    "        s=[]\n",
    "        a=[1]\n",
    "    for i in range(1,len(data)):\n",
    "        if(data[i-1]>threshold and data[i]<=threshold):\n",
    "            s.append(1)\n",
    "        elif(data[i-1]<=threshold and data[i]>threshold):\n",
    "            a.append(1)\n",
    "        elif (data[i-1]<=threshold and data[i]<=threshold):\n",
    "            s[-1]+=1\n",
    "        else:\n",
    "            a[-1]+=1\n",
    "    return(s,a)"
   ]
  },
  {
   "cell_type": "code",
   "execution_count": null,
   "metadata": {},
   "outputs": [],
   "source": [
    "extratctSilenceActivity([0,0,0,1,2,3,0,0,0,0,42,3,1,0,0,23,3,0])"
   ]
  },
  {
   "cell_type": "code",
   "execution_count": null,
   "metadata": {},
   "outputs": [],
   "source": [
    "act_data = [len(sample) for sample in obs_window]\n",
    "print(act_data)\n",
    "extratctSilenceActivity(act_data)"
   ]
  },
  {
   "cell_type": "code",
   "execution_count": null,
   "metadata": {},
   "outputs": [],
   "source": [
    "m = len(windows) # examples\n",
    "n = 1 + 8        # id + features\n",
    "data = np.zeros((m,n))\n",
    "data.shape"
   ]
  },
  {
   "cell_type": "code",
   "execution_count": null,
   "metadata": {},
   "outputs": [],
   "source": [
    "for obs_id, obs_window in enumerate(windows):\n",
    "    # number of TCP packets\n",
    "    num_tcp_packets = num_tcp_pkts(obs_window)\n",
    "    \n",
    "    # mean and standard deviation TCP packet length\n",
    "    mu_size, std_size = packet_length(obs_window)\n",
    "    \n",
    "    # normalized shannon entropy of TCP destination IP and port\n",
    "    ip_hist, port_hist = ip_port_hist(obs_window)\n",
    "    ip_ent = norm_entropy(ip_hist,num_tcp_packets)\n",
    "    port_ent = norm_entropy(port_hist,num_tcp_packets)\n",
    "    \n",
    "    # silence time ratio\n",
    "    silence_r = silence_ratio(obs_window)\n",
    "    \n",
    "    # mean and std silence time sequence\n",
    "    act_data = [len(sample) for sample in obs_window]\n",
    "    s, a = extratctSilenceActivity(act_data)\n",
    "    mean_silence_seq = np.mean(s)\n",
    "    std_silence_seq = np.mean(s)\n",
    "    \n",
    "    # feature vector\n",
    "    x = np.array([\n",
    "        obs_id,\n",
    "        num_tcp_packets, \n",
    "        mu_size, \n",
    "        std_size, \n",
    "        ip_ent, \n",
    "        port_ent, \n",
    "        silence_r, \n",
    "        mean_silence_seq, \n",
    "        std_silence_seq\n",
    "    ])\n",
    "    \n",
    "    # add to dataset\n",
    "    data[obs_id,:] = x"
   ]
  },
  {
   "cell_type": "markdown",
   "metadata": {},
   "source": [
    "Normalize features"
   ]
  },
  {
   "cell_type": "code",
   "execution_count": null,
   "metadata": {},
   "outputs": [],
   "source": [
    "df = pd.DataFrame(\n",
    "    data=data[:,1:],\n",
    "    index=data[:,0], \n",
    "    columns=[\"pack_num\", \"mu_len\", \"std_len\", \"ip_ent\", \"port_ent\", \"sile_r\", \"mu_sile_seq\", \"std_sile_seq\"], \n",
    ")"
   ]
  },
  {
   "cell_type": "code",
   "execution_count": null,
   "metadata": {},
   "outputs": [],
   "source": [
    "df[:5]"
   ]
  },
  {
   "cell_type": "code",
   "execution_count": null,
   "metadata": {},
   "outputs": [],
   "source": [
    "df.describe()"
   ]
  },
  {
   "cell_type": "markdown",
   "metadata": {},
   "source": [
    "save dataset"
   ]
  },
  {
   "cell_type": "code",
   "execution_count": null,
   "metadata": {},
   "outputs": [],
   "source": [
    "df.to_csv('data.csv')"
   ]
  },
  {
   "cell_type": "code",
   "execution_count": null,
   "metadata": {},
   "outputs": [],
   "source": []
  }
 ],
 "metadata": {
  "kernelspec": {
   "display_name": "Python 3",
   "language": "python",
   "name": "python3"
  },
  "language_info": {
   "codemirror_mode": {
    "name": "ipython",
    "version": 3
   },
   "file_extension": ".py",
   "mimetype": "text/x-python",
   "name": "python",
   "nbconvert_exporter": "python",
   "pygments_lexer": "ipython3",
   "version": "3.8.5"
  }
 },
 "nbformat": 4,
 "nbformat_minor": 4
}
